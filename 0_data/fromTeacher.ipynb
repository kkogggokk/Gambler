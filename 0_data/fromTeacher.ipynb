{
 "cells": [
  {
   "cell_type": "code",
   "execution_count": 1,
   "id": "material-miami",
   "metadata": {},
   "outputs": [],
   "source": [
    "import pandas as pd"
   ]
  },
  {
   "cell_type": "code",
   "execution_count": 62,
   "id": "tracked-lawsuit",
   "metadata": {},
   "outputs": [
    {
     "data": {
      "text/plain": [
       "(50000, 31)"
      ]
     },
     "execution_count": 62,
     "metadata": {},
     "output_type": "execute_result"
    }
   ],
   "source": [
    "df = pd.read_csv('eda_df_last')\n",
    "df.shape"
   ]
  },
  {
   "cell_type": "code",
   "execution_count": 64,
   "id": "imperial-gardening",
   "metadata": {},
   "outputs": [],
   "source": [
    "df = df[['First_pokemon', 'Second_pokemon', 'Winner','Type 1_x', 'Type 2_x','Type 1_y', 'Type 2_y']]"
   ]
  },
  {
   "cell_type": "code",
   "execution_count": 65,
   "id": "pregnant-implementation",
   "metadata": {},
   "outputs": [
    {
     "data": {
      "text/html": [
       "<div>\n",
       "<style scoped>\n",
       "    .dataframe tbody tr th:only-of-type {\n",
       "        vertical-align: middle;\n",
       "    }\n",
       "\n",
       "    .dataframe tbody tr th {\n",
       "        vertical-align: top;\n",
       "    }\n",
       "\n",
       "    .dataframe thead th {\n",
       "        text-align: right;\n",
       "    }\n",
       "</style>\n",
       "<table border=\"1\" class=\"dataframe\">\n",
       "  <thead>\n",
       "    <tr style=\"text-align: right;\">\n",
       "      <th></th>\n",
       "      <th>First_pokemon</th>\n",
       "      <th>Second_pokemon</th>\n",
       "      <th>Winner</th>\n",
       "      <th>Type 1_x</th>\n",
       "      <th>Type 2_x</th>\n",
       "      <th>Type 1_y</th>\n",
       "      <th>Type 2_y</th>\n",
       "    </tr>\n",
       "  </thead>\n",
       "  <tbody>\n",
       "    <tr>\n",
       "      <th>0</th>\n",
       "      <td>266</td>\n",
       "      <td>298</td>\n",
       "      <td>298</td>\n",
       "      <td>Rock</td>\n",
       "      <td>Ground</td>\n",
       "      <td>Grass</td>\n",
       "      <td>Dark</td>\n",
       "    </tr>\n",
       "    <tr>\n",
       "      <th>1</th>\n",
       "      <td>702</td>\n",
       "      <td>701</td>\n",
       "      <td>701</td>\n",
       "      <td>Grass</td>\n",
       "      <td>Fighting</td>\n",
       "      <td>Rock</td>\n",
       "      <td>Fighting</td>\n",
       "    </tr>\n",
       "    <tr>\n",
       "      <th>2</th>\n",
       "      <td>191</td>\n",
       "      <td>668</td>\n",
       "      <td>668</td>\n",
       "      <td>Fairy</td>\n",
       "      <td>Flying</td>\n",
       "      <td>Psychic</td>\n",
       "      <td>NaN</td>\n",
       "    </tr>\n",
       "    <tr>\n",
       "      <th>3</th>\n",
       "      <td>237</td>\n",
       "      <td>683</td>\n",
       "      <td>683</td>\n",
       "      <td>Fire</td>\n",
       "      <td>NaN</td>\n",
       "      <td>Dragon</td>\n",
       "      <td>NaN</td>\n",
       "    </tr>\n",
       "    <tr>\n",
       "      <th>4</th>\n",
       "      <td>151</td>\n",
       "      <td>231</td>\n",
       "      <td>151</td>\n",
       "      <td>Rock</td>\n",
       "      <td>Water</td>\n",
       "      <td>Bug</td>\n",
       "      <td>Rock</td>\n",
       "    </tr>\n",
       "  </tbody>\n",
       "</table>\n",
       "</div>"
      ],
      "text/plain": [
       "   First_pokemon  Second_pokemon  Winner Type 1_x  Type 2_x Type 1_y  Type 2_y\n",
       "0            266             298     298     Rock    Ground    Grass      Dark\n",
       "1            702             701     701    Grass  Fighting     Rock  Fighting\n",
       "2            191             668     668    Fairy    Flying  Psychic       NaN\n",
       "3            237             683     683     Fire       NaN   Dragon       NaN\n",
       "4            151             231     151     Rock     Water      Bug      Rock"
      ]
     },
     "execution_count": 65,
     "metadata": {},
     "output_type": "execute_result"
    }
   ],
   "source": [
    "df.head()"
   ]
  },
  {
   "cell_type": "code",
   "execution_count": 68,
   "id": "filled-shell",
   "metadata": {},
   "outputs": [],
   "source": [
    "tmp = df[\n",
    "            ((df['Type 1_x']=='Water')&(df['Type 1_y']=='Fighting')) |\n",
    "            ((df['Type 1_x']=='Water')&(df['Type 2_y']=='Fighting')) |\n",
    "            ((df['Type 2_x']=='Water')&(df['Type 1_y']=='Fighting')) |\n",
    "            ((df['Type 2_x']=='Water')&(df['Type 2_y']=='Fighting')) |\n",
    "    \n",
    "            ((df['Type 1_x']=='Fighting')&(df['Type 1_y']=='Water')) |\n",
    "            ((df['Type 1_x']=='Fighting')&(df['Type 2_y']=='Water')) |\n",
    "            ((df['Type 2_x']=='Fighting')&(df['Type 1_y']=='Water')) |\n",
    "            ((df['Type 2_x']=='Fighting')&(df['Type 2_y']=='Water')) \n",
    "        ]"
   ]
  },
  {
   "cell_type": "code",
   "execution_count": 98,
   "id": "innocent-birthday",
   "metadata": {},
   "outputs": [
    {
     "data": {
      "text/plain": [
       "1054"
      ]
     },
     "execution_count": 98,
     "metadata": {},
     "output_type": "execute_result"
    }
   ],
   "source": [
    "total = tmp.shape[0]\n",
    "total"
   ]
  },
  {
   "cell_type": "code",
   "execution_count": null,
   "id": "guided-stationery",
   "metadata": {},
   "outputs": [],
   "source": [
    "# Water의 승리 횟수"
   ]
  },
  {
   "cell_type": "code",
   "execution_count": 100,
   "id": "novel-stuart",
   "metadata": {},
   "outputs": [
    {
     "data": {
      "text/html": [
       "<div>\n",
       "<style scoped>\n",
       "    .dataframe tbody tr th:only-of-type {\n",
       "        vertical-align: middle;\n",
       "    }\n",
       "\n",
       "    .dataframe tbody tr th {\n",
       "        vertical-align: top;\n",
       "    }\n",
       "\n",
       "    .dataframe thead th {\n",
       "        text-align: right;\n",
       "    }\n",
       "</style>\n",
       "<table border=\"1\" class=\"dataframe\">\n",
       "  <thead>\n",
       "    <tr style=\"text-align: right;\">\n",
       "      <th></th>\n",
       "      <th>First_pokemon</th>\n",
       "      <th>Second_pokemon</th>\n",
       "      <th>Winner</th>\n",
       "      <th>Type 1_x</th>\n",
       "      <th>Type 2_x</th>\n",
       "      <th>Type 1_y</th>\n",
       "      <th>Type 2_y</th>\n",
       "    </tr>\n",
       "  </thead>\n",
       "  <tbody>\n",
       "    <tr>\n",
       "      <th>58</th>\n",
       "      <td>141</td>\n",
       "      <td>721</td>\n",
       "      <td>141</td>\n",
       "      <td>Water</td>\n",
       "      <td>Flying</td>\n",
       "      <td>Grass</td>\n",
       "      <td>Fighting</td>\n",
       "    </tr>\n",
       "    <tr>\n",
       "      <th>124</th>\n",
       "      <td>600</td>\n",
       "      <td>598</td>\n",
       "      <td>600</td>\n",
       "      <td>Fighting</td>\n",
       "      <td>NaN</td>\n",
       "      <td>Water</td>\n",
       "      <td>Ground</td>\n",
       "    </tr>\n",
       "    <tr>\n",
       "      <th>148</th>\n",
       "      <td>153</td>\n",
       "      <td>559</td>\n",
       "      <td>153</td>\n",
       "      <td>Rock</td>\n",
       "      <td>Water</td>\n",
       "      <td>Fire</td>\n",
       "      <td>Fighting</td>\n",
       "    </tr>\n",
       "    <tr>\n",
       "      <th>155</th>\n",
       "      <td>278</td>\n",
       "      <td>94</td>\n",
       "      <td>278</td>\n",
       "      <td>Fire</td>\n",
       "      <td>Fighting</td>\n",
       "      <td>Water</td>\n",
       "      <td>NaN</td>\n",
       "    </tr>\n",
       "    <tr>\n",
       "      <th>211</th>\n",
       "      <td>438</td>\n",
       "      <td>242</td>\n",
       "      <td>438</td>\n",
       "      <td>Fire</td>\n",
       "      <td>Fighting</td>\n",
       "      <td>Water</td>\n",
       "      <td>NaN</td>\n",
       "    </tr>\n",
       "  </tbody>\n",
       "</table>\n",
       "</div>"
      ],
      "text/plain": [
       "     First_pokemon  Second_pokemon  Winner  Type 1_x  Type 2_x Type 1_y  \\\n",
       "58             141             721     141     Water    Flying    Grass   \n",
       "124            600             598     600  Fighting       NaN    Water   \n",
       "148            153             559     153      Rock     Water     Fire   \n",
       "155            278              94     278      Fire  Fighting    Water   \n",
       "211            438             242     438      Fire  Fighting    Water   \n",
       "\n",
       "     Type 2_y  \n",
       "58   Fighting  \n",
       "124    Ground  \n",
       "148  Fighting  \n",
       "155       NaN  \n",
       "211       NaN  "
      ]
     },
     "execution_count": 100,
     "metadata": {},
     "output_type": "execute_result"
    }
   ],
   "source": [
    "#첫번째 포켓몬이 이긴 경우\n",
    "first_win = tmp[(tmp.Winner==tmp.First_pokemon)]\n",
    "first_win.head()"
   ]
  },
  {
   "cell_type": "code",
   "execution_count": 102,
   "id": "heated-realtor",
   "metadata": {},
   "outputs": [
    {
     "data": {
      "text/plain": [
       "228"
      ]
     },
     "execution_count": 102,
     "metadata": {},
     "output_type": "execute_result"
    }
   ],
   "source": [
    "water_win_1 = ((first_win['Type 1_x'] == 'Water')|(first_win['Type 2_x']=='Water')).sum()\n",
    "water_win_1"
   ]
  },
  {
   "cell_type": "code",
   "execution_count": null,
   "id": "joint-electronics",
   "metadata": {},
   "outputs": [],
   "source": [
    "#두번째 포켓몬이 이긴경우 Water의 승리횟수"
   ]
  },
  {
   "cell_type": "code",
   "execution_count": 103,
   "id": "therapeutic-ranch",
   "metadata": {},
   "outputs": [],
   "source": [
    "second_win = tmp[(tmp.Winner==tmp.Second_pokemon)]"
   ]
  },
  {
   "cell_type": "code",
   "execution_count": 105,
   "id": "educated-tribe",
   "metadata": {},
   "outputs": [],
   "source": [
    "water_win_2 = ((second_win['Type 1_y'] == 'Water')|(second_win['Type 2_y']=='Water')).sum()\n",
    "water_win_2"
   ]
  },
  {
   "cell_type": "code",
   "execution_count": 107,
   "id": "formal-denver",
   "metadata": {},
   "outputs": [],
   "source": [
    "water_win = water_win_1 + water_win_2\n",
    "fighting_win = total - water_win"
   ]
  },
  {
   "cell_type": "code",
   "execution_count": 108,
   "id": "approximate-hazard",
   "metadata": {},
   "outputs": [
    {
     "data": {
      "text/plain": [
       "(454, 600)"
      ]
     },
     "execution_count": 108,
     "metadata": {},
     "output_type": "execute_result"
    }
   ],
   "source": [
    "water_win, fighting_win"
   ]
  },
  {
   "cell_type": "code",
   "execution_count": 110,
   "id": "infrared-museum",
   "metadata": {},
   "outputs": [
    {
     "data": {
      "image/png": "[encoded data removed]",
      "text/plain": [
       "<Figure size 432x288 with 1 Axes>"
      ]
     },
     "metadata": {
      "needs_background": "light"
     },
     "output_type": "display_data"
    }
   ],
   "source": [
    "import matplotlib.pyplot as plt\n",
    "plt.bar(['water','fighting'], [water_win, fighting_win])\n",
    "plt.show()"
   ]
  },
  {
   "cell_type": "code",
   "execution_count": null,
   "id": "centered-parent",
   "metadata": {},
   "outputs": [],
   "source": []
  }
 ],
 "metadata": {
  "kernelspec": {
   "display_name": "Python 3",
   "language": "python",
   "name": "python3"
  },
  "language_info": {
   "codemirror_mode": {
    "name": "ipython",
    "version": 3
   },
   "file_extension": ".py",
   "mimetype": "text/x-python",
   "name": "python",
   "nbconvert_exporter": "python",
   "pygments_lexer": "ipython3",
   "version": "3.8.2"
  }
 },
 "nbformat": 4,
 "nbformat_minor": 5
}
