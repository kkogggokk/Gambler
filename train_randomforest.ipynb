{
 "cells": [
  {
   "cell_type": "code",
   "execution_count": 1,
   "metadata": {},
   "outputs": [],
   "source": [
    "import pandas as pd\n",
    "import numpy as np\n",
    "import matplotlib.pyplot as plt\n",
    "import seaborn as sns\n",
    "\n",
    "from sklearn.model_selection import train_test_split,GridSearchCV\n",
    "from sklearn.metrics import accuracy_score, classification_report\n",
    "from sklearn.tree import DecisionTreeClassifier\n",
    "from sklearn.preprocessing import LabelEncoder,OneHotEncoder\n",
    "from sklearn.ensemble import RandomForestClassifier"
   ]
  },
  {
   "cell_type": "code",
   "execution_count": 6,
   "metadata": {},
   "outputs": [],
   "source": [
    "pokemon_df = pd.read_csv('data/pokemon_df_rf.csv')"
   ]
  },
  {
   "cell_type": "code",
   "execution_count": 7,
   "metadata": {
    "scrolled": true
   },
   "outputs": [
    {
     "name": "stdout",
     "output_type": "stream",
     "text": [
      "<class 'pandas.core.frame.DataFrame'>\n",
      "RangeIndex: 50000 entries, 0 to 49999\n",
      "Data columns (total 11 columns):\n",
      " #   Column             Non-Null Count  Dtype\n",
      "---  ------             --------------  -----\n",
      " 0   Winner_mark        50000 non-null  int64\n",
      " 1   Generation_first   50000 non-null  int64\n",
      " 2   Legendary_first    50000 non-null  int64\n",
      " 3   Generation_second  50000 non-null  int64\n",
      " 4   Legendary_second   50000 non-null  int64\n",
      " 5   HP_diff            50000 non-null  int64\n",
      " 6   Attack_diff        50000 non-null  int64\n",
      " 7   Defense_diff       50000 non-null  int64\n",
      " 8   Sp. Atk_diff       50000 non-null  int64\n",
      " 9   Sp. Def_diff       50000 non-null  int64\n",
      " 10  Speed_diff         50000 non-null  int64\n",
      "dtypes: int64(11)\n",
      "memory usage: 4.2 MB\n"
     ]
    }
   ],
   "source": [
    "pokemon_df.info()"
   ]
  },
  {
   "cell_type": "code",
   "execution_count": 8,
   "metadata": {},
   "outputs": [],
   "source": [
    "X = pokemon_df.drop('Winner_mark',axis=1)\n",
    "y = pokemon_df['Winner_mark']"
   ]
  },
  {
   "cell_type": "code",
   "execution_count": 9,
   "metadata": {},
   "outputs": [],
   "source": [
    "# Train/Test(val) 분리\n",
    "X_train,X_test, y_train,y_test = train_test_split(X,y,stratify=y,random_state=1)"
   ]
  },
  {
   "cell_type": "code",
   "execution_count": 11,
   "metadata": {},
   "outputs": [],
   "source": [
    "rf = RandomForestClassifier(n_estimators=200,\n",
    "                           max_features = 7,\n",
    "                           max_depth = 5,\n",
    "                           n_jobs=-1,\n",
    "                           random_state=1)"
   ]
  },
  {
   "cell_type": "code",
   "execution_count": 12,
   "metadata": {},
   "outputs": [
    {
     "data": {
      "text/plain": [
       "RandomForestClassifier(max_depth=5, max_features=7, n_estimators=200, n_jobs=-1,\n",
       "                       random_state=1)"
      ]
     },
     "execution_count": 12,
     "metadata": {},
     "output_type": "execute_result"
    }
   ],
   "source": [
    "rf.fit(X_train,y_train)"
   ]
  },
  {
   "cell_type": "code",
   "execution_count": 13,
   "metadata": {},
   "outputs": [],
   "source": [
    "pred_train= rf.predict(X_train)\n",
    "pred_test = rf.predict(X_test)"
   ]
  },
  {
   "cell_type": "code",
   "execution_count": 14,
   "metadata": {
    "scrolled": true
   },
   "outputs": [
    {
     "data": {
      "text/plain": [
       "(0.9437066666666667, 0.94656)"
      ]
     },
     "execution_count": 14,
     "metadata": {},
     "output_type": "execute_result"
    }
   ],
   "source": [
    "accuracy_score(y_train,pred_train),accuracy_score(y_test,pred_test)"
   ]
  },
  {
   "cell_type": "code",
   "execution_count": 15,
   "metadata": {},
   "outputs": [
    {
     "data": {
      "text/plain": [
       "array([1.41878967e-04, 3.51053683e-05, 7.28208168e-04, 1.76413114e-04,\n",
       "       3.96604292e-03, 4.30883919e-02, 4.75347506e-03, 1.02256334e-02,\n",
       "       6.06912507e-04, 9.36277939e-01])"
      ]
     },
     "execution_count": 15,
     "metadata": {},
     "output_type": "execute_result"
    }
   ],
   "source": [
    "fi = rf.feature_importances_\n",
    "fi"
   ]
  },
  {
   "cell_type": "code",
   "execution_count": 16,
   "metadata": {},
   "outputs": [],
   "source": [
    "pokemon_df_onehot = pd.read_csv('data/pokemon_df_rf.csv')"
   ]
  },
  {
   "cell_type": "code",
   "execution_count": 17,
   "metadata": {},
   "outputs": [],
   "source": [
    "pokemon_df_onehot = pd.get_dummies(pokemon_df, columns=['Generation_first','Generation_second','Legendary_first','Legendary_second'])"
   ]
  },
  {
   "cell_type": "code",
   "execution_count": 18,
   "metadata": {},
   "outputs": [],
   "source": [
    "pokemon_df_onehot.to_csv('data/pokemon_df_onehot.csv')"
   ]
  },
  {
   "cell_type": "code",
   "execution_count": 20,
   "metadata": {},
   "outputs": [
    {
     "data": {
      "text/html": [
       "<div>\n",
       "<style scoped>\n",
       "    .dataframe tbody tr th:only-of-type {\n",
       "        vertical-align: middle;\n",
       "    }\n",
       "\n",
       "    .dataframe tbody tr th {\n",
       "        vertical-align: top;\n",
       "    }\n",
       "\n",
       "    .dataframe thead th {\n",
       "        text-align: right;\n",
       "    }\n",
       "</style>\n",
       "<table border=\"1\" class=\"dataframe\">\n",
       "  <thead>\n",
       "    <tr style=\"text-align: right;\">\n",
       "      <th></th>\n",
       "      <th>Winner_mark</th>\n",
       "      <th>Generation_first</th>\n",
       "      <th>Legendary_first</th>\n",
       "      <th>Generation_second</th>\n",
       "      <th>Legendary_second</th>\n",
       "      <th>HP_diff</th>\n",
       "      <th>Attack_diff</th>\n",
       "      <th>Defense_diff</th>\n",
       "      <th>Sp. Atk_diff</th>\n",
       "      <th>Sp. Def_diff</th>\n",
       "      <th>Speed_diff</th>\n",
       "    </tr>\n",
       "  </thead>\n",
       "  <tbody>\n",
       "    <tr>\n",
       "      <th>0</th>\n",
       "      <td>2</td>\n",
       "      <td>2</td>\n",
       "      <td>0</td>\n",
       "      <td>3</td>\n",
       "      <td>0</td>\n",
       "      <td>-20</td>\n",
       "      <td>-6</td>\n",
       "      <td>10</td>\n",
       "      <td>-15</td>\n",
       "      <td>10</td>\n",
       "      <td>-19</td>\n",
       "    </tr>\n",
       "    <tr>\n",
       "      <th>1</th>\n",
       "      <td>2</td>\n",
       "      <td>5</td>\n",
       "      <td>1</td>\n",
       "      <td>5</td>\n",
       "      <td>1</td>\n",
       "      <td>0</td>\n",
       "      <td>-39</td>\n",
       "      <td>-18</td>\n",
       "      <td>18</td>\n",
       "      <td>39</td>\n",
       "      <td>0</td>\n",
       "    </tr>\n",
       "    <tr>\n",
       "      <th>2</th>\n",
       "      <td>2</td>\n",
       "      <td>2</td>\n",
       "      <td>0</td>\n",
       "      <td>5</td>\n",
       "      <td>0</td>\n",
       "      <td>-20</td>\n",
       "      <td>-35</td>\n",
       "      <td>10</td>\n",
       "      <td>-45</td>\n",
       "      <td>10</td>\n",
       "      <td>0</td>\n",
       "    </tr>\n",
       "    <tr>\n",
       "      <th>3</th>\n",
       "      <td>2</td>\n",
       "      <td>2</td>\n",
       "      <td>0</td>\n",
       "      <td>5</td>\n",
       "      <td>0</td>\n",
       "      <td>-37</td>\n",
       "      <td>-80</td>\n",
       "      <td>-50</td>\n",
       "      <td>10</td>\n",
       "      <td>-50</td>\n",
       "      <td>-28</td>\n",
       "    </tr>\n",
       "    <tr>\n",
       "      <th>4</th>\n",
       "      <td>1</td>\n",
       "      <td>1</td>\n",
       "      <td>0</td>\n",
       "      <td>2</td>\n",
       "      <td>0</td>\n",
       "      <td>50</td>\n",
       "      <td>50</td>\n",
       "      <td>-105</td>\n",
       "      <td>105</td>\n",
       "      <td>-160</td>\n",
       "      <td>50</td>\n",
       "    </tr>\n",
       "    <tr>\n",
       "      <th>...</th>\n",
       "      <td>...</td>\n",
       "      <td>...</td>\n",
       "      <td>...</td>\n",
       "      <td>...</td>\n",
       "      <td>...</td>\n",
       "      <td>...</td>\n",
       "      <td>...</td>\n",
       "      <td>...</td>\n",
       "      <td>...</td>\n",
       "      <td>...</td>\n",
       "      <td>...</td>\n",
       "    </tr>\n",
       "    <tr>\n",
       "      <th>49995</th>\n",
       "      <td>1</td>\n",
       "      <td>5</td>\n",
       "      <td>1</td>\n",
       "      <td>1</td>\n",
       "      <td>0</td>\n",
       "      <td>70</td>\n",
       "      <td>80</td>\n",
       "      <td>30</td>\n",
       "      <td>80</td>\n",
       "      <td>95</td>\n",
       "      <td>30</td>\n",
       "    </tr>\n",
       "    <tr>\n",
       "      <th>49996</th>\n",
       "      <td>1</td>\n",
       "      <td>5</td>\n",
       "      <td>0</td>\n",
       "      <td>5</td>\n",
       "      <td>0</td>\n",
       "      <td>25</td>\n",
       "      <td>30</td>\n",
       "      <td>0</td>\n",
       "      <td>-15</td>\n",
       "      <td>5</td>\n",
       "      <td>8</td>\n",
       "    </tr>\n",
       "    <tr>\n",
       "      <th>49997</th>\n",
       "      <td>2</td>\n",
       "      <td>3</td>\n",
       "      <td>0</td>\n",
       "      <td>3</td>\n",
       "      <td>0</td>\n",
       "      <td>-13</td>\n",
       "      <td>-65</td>\n",
       "      <td>40</td>\n",
       "      <td>25</td>\n",
       "      <td>10</td>\n",
       "      <td>-25</td>\n",
       "    </tr>\n",
       "    <tr>\n",
       "      <th>49998</th>\n",
       "      <td>1</td>\n",
       "      <td>1</td>\n",
       "      <td>0</td>\n",
       "      <td>1</td>\n",
       "      <td>0</td>\n",
       "      <td>15</td>\n",
       "      <td>-5</td>\n",
       "      <td>-20</td>\n",
       "      <td>-40</td>\n",
       "      <td>0</td>\n",
       "      <td>55</td>\n",
       "    </tr>\n",
       "    <tr>\n",
       "      <th>49999</th>\n",
       "      <td>1</td>\n",
       "      <td>1</td>\n",
       "      <td>0</td>\n",
       "      <td>1</td>\n",
       "      <td>0</td>\n",
       "      <td>8</td>\n",
       "      <td>24</td>\n",
       "      <td>28</td>\n",
       "      <td>124</td>\n",
       "      <td>80</td>\n",
       "      <td>65</td>\n",
       "    </tr>\n",
       "  </tbody>\n",
       "</table>\n",
       "<p>50000 rows × 11 columns</p>\n",
       "</div>"
      ],
      "text/plain": [
       "       Winner_mark  Generation_first  Legendary_first  Generation_second  \\\n",
       "0                2                 2                0                  3   \n",
       "1                2                 5                1                  5   \n",
       "2                2                 2                0                  5   \n",
       "3                2                 2                0                  5   \n",
       "4                1                 1                0                  2   \n",
       "...            ...               ...              ...                ...   \n",
       "49995            1                 5                1                  1   \n",
       "49996            1                 5                0                  5   \n",
       "49997            2                 3                0                  3   \n",
       "49998            1                 1                0                  1   \n",
       "49999            1                 1                0                  1   \n",
       "\n",
       "       Legendary_second  HP_diff  Attack_diff  Defense_diff  Sp. Atk_diff  \\\n",
       "0                     0      -20           -6            10           -15   \n",
       "1                     1        0          -39           -18            18   \n",
       "2                     0      -20          -35            10           -45   \n",
       "3                     0      -37          -80           -50            10   \n",
       "4                     0       50           50          -105           105   \n",
       "...                 ...      ...          ...           ...           ...   \n",
       "49995                 0       70           80            30            80   \n",
       "49996                 0       25           30             0           -15   \n",
       "49997                 0      -13          -65            40            25   \n",
       "49998                 0       15           -5           -20           -40   \n",
       "49999                 0        8           24            28           124   \n",
       "\n",
       "       Sp. Def_diff  Speed_diff  \n",
       "0                10         -19  \n",
       "1                39           0  \n",
       "2                10           0  \n",
       "3               -50         -28  \n",
       "4              -160          50  \n",
       "...             ...         ...  \n",
       "49995            95          30  \n",
       "49996             5           8  \n",
       "49997            10         -25  \n",
       "49998             0          55  \n",
       "49999            80          65  \n",
       "\n",
       "[50000 rows x 11 columns]"
      ]
     },
     "execution_count": 20,
     "metadata": {},
     "output_type": "execute_result"
    }
   ],
   "source": [
    "pokemon_df"
   ]
  },
  {
   "cell_type": "code",
   "execution_count": 21,
   "metadata": {},
   "outputs": [],
   "source": [
    "data = pd.read_csv('data/type_data.csv')"
   ]
  },
  {
   "cell_type": "code",
   "execution_count": 22,
   "metadata": {},
   "outputs": [],
   "source": [
    "data = pd.get_dummies(data, columns = ['Type 1_first','Type 1_second','Type 2_first','Type 2_second'])"
   ]
  },
  {
   "cell_type": "code",
   "execution_count": 27,
   "metadata": {
    "collapsed": true
   },
   "outputs": [
    {
     "name": "stdout",
     "output_type": "stream",
     "text": [
      "<class 'pandas.core.frame.DataFrame'>\n",
      "RangeIndex: 50000 entries, 0 to 49999\n",
      "Data columns (total 76 columns):\n",
      " #   Column            Non-Null Count  Dtype\n",
      "---  ------            --------------  -----\n",
      " 0   Unnamed: 0        50000 non-null  int64\n",
      " 1   Winner_mark       50000 non-null  int64\n",
      " 2   Type 1_first_0    50000 non-null  uint8\n",
      " 3   Type 1_first_1    50000 non-null  uint8\n",
      " 4   Type 1_first_2    50000 non-null  uint8\n",
      " 5   Type 1_first_3    50000 non-null  uint8\n",
      " 6   Type 1_first_4    50000 non-null  uint8\n",
      " 7   Type 1_first_5    50000 non-null  uint8\n",
      " 8   Type 1_first_6    50000 non-null  uint8\n",
      " 9   Type 1_first_7    50000 non-null  uint8\n",
      " 10  Type 1_first_8    50000 non-null  uint8\n",
      " 11  Type 1_first_9    50000 non-null  uint8\n",
      " 12  Type 1_first_10   50000 non-null  uint8\n",
      " 13  Type 1_first_11   50000 non-null  uint8\n",
      " 14  Type 1_first_12   50000 non-null  uint8\n",
      " 15  Type 1_first_13   50000 non-null  uint8\n",
      " 16  Type 1_first_14   50000 non-null  uint8\n",
      " 17  Type 1_first_15   50000 non-null  uint8\n",
      " 18  Type 1_first_16   50000 non-null  uint8\n",
      " 19  Type 1_first_17   50000 non-null  uint8\n",
      " 20  Type 1_second_0   50000 non-null  uint8\n",
      " 21  Type 1_second_1   50000 non-null  uint8\n",
      " 22  Type 1_second_2   50000 non-null  uint8\n",
      " 23  Type 1_second_3   50000 non-null  uint8\n",
      " 24  Type 1_second_4   50000 non-null  uint8\n",
      " 25  Type 1_second_5   50000 non-null  uint8\n",
      " 26  Type 1_second_6   50000 non-null  uint8\n",
      " 27  Type 1_second_7   50000 non-null  uint8\n",
      " 28  Type 1_second_8   50000 non-null  uint8\n",
      " 29  Type 1_second_9   50000 non-null  uint8\n",
      " 30  Type 1_second_10  50000 non-null  uint8\n",
      " 31  Type 1_second_11  50000 non-null  uint8\n",
      " 32  Type 1_second_12  50000 non-null  uint8\n",
      " 33  Type 1_second_13  50000 non-null  uint8\n",
      " 34  Type 1_second_14  50000 non-null  uint8\n",
      " 35  Type 1_second_15  50000 non-null  uint8\n",
      " 36  Type 1_second_16  50000 non-null  uint8\n",
      " 37  Type 1_second_17  50000 non-null  uint8\n",
      " 38  Type 2_first_0    50000 non-null  uint8\n",
      " 39  Type 2_first_1    50000 non-null  uint8\n",
      " 40  Type 2_first_2    50000 non-null  uint8\n",
      " 41  Type 2_first_3    50000 non-null  uint8\n",
      " 42  Type 2_first_4    50000 non-null  uint8\n",
      " 43  Type 2_first_5    50000 non-null  uint8\n",
      " 44  Type 2_first_6    50000 non-null  uint8\n",
      " 45  Type 2_first_7    50000 non-null  uint8\n",
      " 46  Type 2_first_8    50000 non-null  uint8\n",
      " 47  Type 2_first_9    50000 non-null  uint8\n",
      " 48  Type 2_first_10   50000 non-null  uint8\n",
      " 49  Type 2_first_11   50000 non-null  uint8\n",
      " 50  Type 2_first_12   50000 non-null  uint8\n",
      " 51  Type 2_first_13   50000 non-null  uint8\n",
      " 52  Type 2_first_14   50000 non-null  uint8\n",
      " 53  Type 2_first_15   50000 non-null  uint8\n",
      " 54  Type 2_first_16   50000 non-null  uint8\n",
      " 55  Type 2_first_17   50000 non-null  uint8\n",
      " 56  Type 2_first_18   50000 non-null  uint8\n",
      " 57  Type 2_second_0   50000 non-null  uint8\n",
      " 58  Type 2_second_1   50000 non-null  uint8\n",
      " 59  Type 2_second_2   50000 non-null  uint8\n",
      " 60  Type 2_second_3   50000 non-null  uint8\n",
      " 61  Type 2_second_4   50000 non-null  uint8\n",
      " 62  Type 2_second_5   50000 non-null  uint8\n",
      " 63  Type 2_second_6   50000 non-null  uint8\n",
      " 64  Type 2_second_7   50000 non-null  uint8\n",
      " 65  Type 2_second_8   50000 non-null  uint8\n",
      " 66  Type 2_second_9   50000 non-null  uint8\n",
      " 67  Type 2_second_10  50000 non-null  uint8\n",
      " 68  Type 2_second_11  50000 non-null  uint8\n",
      " 69  Type 2_second_12  50000 non-null  uint8\n",
      " 70  Type 2_second_13  50000 non-null  uint8\n",
      " 71  Type 2_second_14  50000 non-null  uint8\n",
      " 72  Type 2_second_15  50000 non-null  uint8\n",
      " 73  Type 2_second_16  50000 non-null  uint8\n",
      " 74  Type 2_second_17  50000 non-null  uint8\n",
      " 75  Type 2_second_18  50000 non-null  uint8\n",
      "dtypes: int64(2), uint8(74)\n",
      "memory usage: 4.3 MB\n"
     ]
    }
   ],
   "source": [
    "data.info()"
   ]
  },
  {
   "cell_type": "code",
   "execution_count": 23,
   "metadata": {},
   "outputs": [],
   "source": [
    "X_type = data.drop('Winner_mark',axis=1)\n",
    "y_type = data['Winner_mark']"
   ]
  },
  {
   "cell_type": "code",
   "execution_count": 25,
   "metadata": {},
   "outputs": [],
   "source": [
    "X_type_train,X_type_test,y_type_train,y_type_test = train_test_split(X_type,y_type,stratify=y_type,random_state=1)"
   ]
  },
  {
   "cell_type": "code",
   "execution_count": 26,
   "metadata": {},
   "outputs": [],
   "source": [
    "rf = RandomForestClassifier(n_estimators=200,\n",
    "                           max_features = 50,\n",
    "                           max_depth = 9,\n",
    "                           n_jobs=-1,\n",
    "                           random_state=1)"
   ]
  },
  {
   "cell_type": "code",
   "execution_count": 28,
   "metadata": {},
   "outputs": [
    {
     "data": {
      "text/plain": [
       "RandomForestClassifier(max_depth=5, max_features=7, n_estimators=200, n_jobs=-1,\n",
       "                       random_state=1)"
      ]
     },
     "execution_count": 28,
     "metadata": {},
     "output_type": "execute_result"
    }
   ],
   "source": [
    "rf.fit(X_type_train,y_type_train)"
   ]
  },
  {
   "cell_type": "code",
   "execution_count": 29,
   "metadata": {},
   "outputs": [],
   "source": [
    "pred_type_train= rf.predict(X_type_train)\n",
    "pred_type_test = rf.predict(X_type_test)"
   ]
  },
  {
   "cell_type": "code",
   "execution_count": 30,
   "metadata": {},
   "outputs": [
    {
     "data": {
      "text/plain": [
       "(0.6226133333333334, 0.6212)"
      ]
     },
     "execution_count": 30,
     "metadata": {},
     "output_type": "execute_result"
    }
   ],
   "source": [
    "accuracy_score(y_type_train,pred_type_train),accuracy_score(y_type_test,pred_type_test)"
   ]
  },
  {
   "cell_type": "code",
   "execution_count": 31,
   "metadata": {},
   "outputs": [],
   "source": [
    "# categorical"
   ]
  },
  {
   "cell_type": "code",
   "execution_count": 32,
   "metadata": {},
   "outputs": [],
   "source": [
    "data_categorical = pd.read_csv('data/data_categorical.csv')"
   ]
  },
  {
   "cell_type": "code",
   "execution_count": 33,
   "metadata": {},
   "outputs": [],
   "source": [
    "data_categorical = pd.get_dummies(data_categorical, columns = ['Type 1_first','Type 1_second','Type 2_first','Type 2_second','Legendary_first','Legendary_second','Generation_first','Generation_second'])\n",
    "X_cate = data.drop('Winner_mark',axis=1)\n",
    "y_cate = data['Winner_mark']"
   ]
  },
  {
   "cell_type": "code",
   "execution_count": 34,
   "metadata": {},
   "outputs": [],
   "source": [
    "X_cate_train,X_cate_test,y_cate_train,y_cate_test = train_test_split(X_cate,y_cate,stratify=y_cate,random_state=1)"
   ]
  },
  {
   "cell_type": "code",
   "execution_count": 35,
   "metadata": {},
   "outputs": [],
   "source": [
    "rf = RandomForestClassifier(n_estimators=200,\n",
    "                           max_features = 50,\n",
    "                           max_depth = 9,\n",
    "                           n_jobs=-1,\n",
    "                           random_state=1)"
   ]
  },
  {
   "cell_type": "code",
   "execution_count": 36,
   "metadata": {},
   "outputs": [
    {
     "data": {
      "text/plain": [
       "RandomForestClassifier(max_depth=9, max_features=50, n_estimators=200,\n",
       "                       n_jobs=-1, random_state=1)"
      ]
     },
     "execution_count": 36,
     "metadata": {},
     "output_type": "execute_result"
    }
   ],
   "source": [
    "rf.fit(X_cate_train,y_cate_train)"
   ]
  },
  {
   "cell_type": "code",
   "execution_count": 37,
   "metadata": {},
   "outputs": [
    {
     "data": {
      "text/plain": [
       "(0.63208, 0.62032)"
      ]
     },
     "execution_count": 37,
     "metadata": {},
     "output_type": "execute_result"
    }
   ],
   "source": [
    "pred_cate_train= rf.predict(X_cate_train)\n",
    "pred_cate_test = rf.predict(X_cate_test)\n",
    "accuracy_score(y_cate_train,pred_cate_train),accuracy_score(y_cate_test,pred_cate_test)"
   ]
  },
  {
   "cell_type": "code",
   "execution_count": null,
   "metadata": {},
   "outputs": [],
   "source": []
  }
 ],
 "metadata": {
  "kernelspec": {
   "display_name": "Python 3",
   "language": "python",
   "name": "python3"
  },
  "language_info": {
   "codemirror_mode": {
    "name": "ipython",
    "version": 3
   },
   "file_extension": ".py",
   "mimetype": "text/x-python",
   "name": "python",
   "nbconvert_exporter": "python",
   "pygments_lexer": "ipython3",
   "version": "3.8.5"
  }
 },
 "nbformat": 4,
 "nbformat_minor": 4
}
